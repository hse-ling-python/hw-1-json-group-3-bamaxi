{
 "cells": [
  {
   "cell_type": "markdown",
   "metadata": {},
   "source": [
    "# Домашнее задание 1 - twitter"
   ]
  },
  {
   "cell_type": "markdown",
   "metadata": {},
   "source": [
    "### Задание 1\n",
    "\n",
    "Прочтём файл с данными в список tweets - это список словарей. Узнаем, сколько\n",
    "всего окажется твитов, посмотрев длину списка. (Их **2556**)."
   ]
  },
  {
   "cell_type": "code",
   "execution_count": 71,
   "metadata": {
    "collapsed": false,
    "inputHidden": false,
    "jupyter": {
     "outputs_hidden": false
    },
    "outputHidden": false
   },
   "outputs": [],
   "source": [
    "import json\n",
    "import re\n",
    "from pprint import pprint\n",
    "from collections import Counter\n",
    "\n",
    "\n",
    "file = 'data/hw_3_twitter.json'\n",
    "\n",
    "tweets = list()\n",
    "for line in open(file, 'r', encoding = 'utf-8'):\n",
    "        tweets.append(json.loads(line))\n",
    "\n",
    "total_num_of_tweets = len(tweets)\n",
    "#pprint(tweets[0])\n",
    "#pprint(tweets[-1])"
   ]
  },
  {
   "cell_type": "markdown",
   "metadata": {},
   "source": [
    "**Ответ на задание 1:**"
   ]
  },
  {
   "cell_type": "code",
   "execution_count": 72,
   "metadata": {},
   "outputs": [
    {
     "name": "stdout",
     "output_type": "stream",
     "text": [
      "2556\n"
     ]
    }
   ],
   "source": [
    "print(total_num_of_tweets)"
   ]
  },
  {
   "cell_type": "markdown",
   "metadata": {},
   "source": [
    "### Задание 2\n",
    "\n",
    "Информация об удалённых твитах устроена особым образом: при конвертации из json в объект питона это будет словарь с одним ключом - *delete* - это мы и можем проверить, используя метод *.keys()* словарей. В переменную *num_of_deleted_tweets* мы и записали количество удалённых твитов (**362**), которое потом разделим на общее число твитов, чтобы получить ответ."
   ]
  },
  {
   "cell_type": "code",
   "execution_count": 73,
   "metadata": {},
   "outputs": [],
   "source": [
    "num_of_deleted_tweets = 0\n",
    "for tweet in tweets:\n",
    "    if list(tweet.keys())[0] == 'delete':\n",
    "        num_of_deleted_tweets += 1"
   ]
  },
  {
   "cell_type": "markdown",
   "metadata": {},
   "source": [
    "**Ответ на задание 2:** (округлен самим питоном)"
   ]
  },
  {
   "cell_type": "code",
   "execution_count": 74,
   "metadata": {},
   "outputs": [
    {
     "name": "stdout",
     "output_type": "stream",
     "text": [
      "Процент удалённых твитов: 14.162754%\n"
     ]
    }
   ],
   "source": [
    "print('Процент удалённых твитов: {:%}'.format(num_of_deleted_tweets / total_num_of_tweets))"
   ]
  },
  {
   "cell_type": "markdown",
   "metadata": {},
   "source": [
    "### Задание 3\n",
    "\n"
   ]
  },
  {
   "cell_type": "markdown",
   "metadata": {},
   "source": [
    "# **TODO**: Добавить описание и нормальное название языка и PEP8!!!"
   ]
  },
  {
   "cell_type": "code",
   "execution_count": 75,
   "metadata": {},
   "outputs": [],
   "source": [
    "popular_langs_of_tweets = Counter()\n",
    "for tweet in tweets:\n",
    "    if 'lang' in tweet.keys():\n",
    "        popular_langs_of_tweets[tweet['lang']] += 1"
   ]
  },
  {
   "cell_type": "markdown",
   "metadata": {},
   "source": [
    "**Ответ на задание 3:** языки по убыванию по популярности с количеством твитов на них (20 штук, как и советовали в tg)"
   ]
  },
  {
   "cell_type": "code",
   "execution_count": 76,
   "metadata": {},
   "outputs": [
    {
     "name": "stdout",
     "output_type": "stream",
     "text": [
      "en\t719\n",
      "ja\t438\n",
      "es\t173\n",
      "ko\t149\n",
      "th\t123\n",
      "ar\t119\n",
      "in\t71\n",
      "pt\t69\n",
      "fr\t35\n",
      "tr\t30\n",
      "tl\t29\n",
      "hi\t23\n",
      "ru\t15\n",
      "fa\t8\n",
      "zh\t8\n",
      "ca\t7\n",
      "ur\t6\n",
      "nl\t6\n",
      "de\t6\n"
     ]
    }
   ],
   "source": [
    "for lang, num in popular_langs_of_tweets.most_common(20):\n",
    "    if lang != 'und':\n",
    "        print('{}\\t{}'.format(lang, num))"
   ]
  },
  {
   "cell_type": "markdown",
   "metadata": {},
   "source": [
    "Твиты с неизвестным языком не учитываются. Их *117*"
   ]
  },
  {
   "cell_type": "code",
   "execution_count": 77,
   "metadata": {},
   "outputs": [
    {
     "name": "stdout",
     "output_type": "stream",
     "text": [
      "117\n"
     ]
    }
   ],
   "source": [
    "print(popular_langs_of_tweets['und'])"
   ]
  },
  {
   "cell_type": "markdown",
   "metadata": {},
   "source": [
    "# Задание 4\n",
    "\n"
   ]
  },
  {
   "cell_type": "markdown",
   "metadata": {},
   "source": [
    "Чтобы найти число пользователей, которые сделали 2+ твита, создадим список пользователей *users* и проходя список твитов будем в *users* вносить маленький список из двух элементов: уникального id и количество твитов человека с этим id. Когда мы встречаем user'а в первый раз, внесён будет список `[id, 1]`. Поскольку это список списков и все вложеные списки имеют одинаковую длину, то проверять существование id удобно применяя функцию `zip()` к `*users` - отдельным маленьким спискам. Такое применение даёт два списка одинаковой длины, в первом из которых - все id на текущий момент, во втором - количества твитов. id и количества твитов находятся в таких списках на одинаковых местах, что позволяет, (если такой id уже есть), увеличить на 1 количество твитов во вложенном списке исходного списка *users*, используя индекс id в разбитом списке.\n",
    "\n",
    "В самом начале, условием `if list(tweet.keys())[0] != 'delete'` конечно проверяется, чтобы это не был удалённый твит."
   ]
  },
  {
   "cell_type": "code",
   "execution_count": 100,
   "metadata": {},
   "outputs": [],
   "source": [
    "users = list()\n",
    "\n",
    "for tweet in tweets:\n",
    "    if list(tweet.keys())[0] != 'delete':\n",
    "        id = tweet['user']['id']\n",
    "        if users:\n",
    "            ids = list(zip(*users))[0]\n",
    "            if id in ids:\n",
    "                users[ids.index(id)][1] += 1\n",
    "            else:\n",
    "                users.append([id, 1])\n",
    "        else:\n",
    "            users.append([id, 1])"
   ]
  },
  {
   "cell_type": "markdown",
   "metadata": {},
   "source": [
    "Ответ вычисляется просто: из общего количества пользователей нужно вычесть количество пользователей, у которых ровно один твит (0 твитов и меньше быть не может, мы вносили так, чтобы их было 1+), что также делается с помощью `zip(*users)`, но на этот раз нас интересует второй разделённый список - список количеств. Итак, **ответ на задание 4:** 25"
   ]
  },
  {
   "cell_type": "code",
   "execution_count": 79,
   "metadata": {},
   "outputs": [
    {
     "name": "stdout",
     "output_type": "stream",
     "text": [
      "25\n"
     ]
    }
   ],
   "source": [
    "more_than_one_tweet = len(users) - list(zip(*users))[1].count(1)\n",
    "print(more_than_one_tweet)"
   ]
  },
  {
   "cell_type": "markdown",
   "metadata": {},
   "source": [
    "# Задание 5"
   ]
  },
  {
   "cell_type": "markdown",
   "metadata": {},
   "source": [
    "Для каждого твита (если он не удалённый), если список *hashtags* не пуст, то обойдем все словари в нём (каждый словарь описывает один хэштег), и достанем из каждого словаря текст хэштега. Для начала внесём эти хэштеги в список. Позже к нему мы применим Counter."
   ]
  },
  {
   "cell_type": "code",
   "execution_count": 102,
   "metadata": {},
   "outputs": [],
   "source": [
    "hashtags_list = list()\n",
    "\n",
    "for tweet in tweets:\n",
    "    if list(tweet.keys())[0] != 'delete':\n",
    "        hashtags = tweet['entities']['hashtags']\n",
    "        if hashtags:\n",
    "            for hashtag in hashtags:\n",
    "                hashtags_list.append(hashtag['text'])"
   ]
  },
  {
   "cell_type": "markdown",
   "metadata": {},
   "source": [
    "**Ответ на задание 5:** *не выравнивается, извините(*"
   ]
  },
  {
   "cell_type": "code",
   "execution_count": 97,
   "metadata": {},
   "outputs": [
    {
     "name": "stdout",
     "output_type": "stream",
     "text": [
      "Hashtag                       Count\n",
      "#BTS                      17\n",
      "#방탄소년단                    13\n",
      "#AMAs                     11\n",
      "#人気投票ガチャ                  8\n",
      "#태형                       7\n",
      "#뷔                        6\n",
      "#BTSinChicago             5\n",
      "#BTSLoveYourselfTour      5\n",
      "#오늘의방탄                    5\n",
      "#PledgeForSwachhBharat    5\n",
      "#MPN                      5\n",
      "#PCAs                     4\n",
      "#V                        4\n",
      "#시카고1회차공연                 4\n",
      "#เป๊กผลิตโชค              4\n",
      "#JIMIN                    4\n",
      "#running                  3\n",
      "#NCT                      3\n",
      "#지민                       3\n",
      "#WajahmuPlastik           3\n"
     ]
    }
   ],
   "source": [
    "print('{:<30s}{:>5s}'.format('Hashtag', 'Count'))\n",
    "for hashtag, count in Counter(hashtags_list).most_common(20):\n",
    "    print(u'#{:<25s}{:5>d}'.format(hashtag, count))"
   ]
  },
  {
   "cell_type": "markdown",
   "metadata": {},
   "source": [
    "# Задание 6"
   ]
  },
  {
   "cell_type": "code",
   "execution_count": null,
   "metadata": {},
   "outputs": [],
   "source": []
  },
  {
   "cell_type": "code",
   "execution_count": 106,
   "metadata": {},
   "outputs": [
    {
     "name": "stdout",
     "output_type": "stream",
     "text": [
      "1072\n"
     ]
    }
   ],
   "source": [
    "tweet_texts = list()\n",
    "for tweet in tweets:\n",
    "    if list(tweet.keys())[0] != 'delete' and not 'retweeted_status' in tweet and not 'quoted_status_id' in tweet:\n",
    "        tweet_texts.append(tweet['text'])"
   ]
  }
 ],
 "metadata": {
  "kernelspec": {
   "display_name": "Python 3",
   "language": "python",
   "name": "python3"
  },
  "language_info": {
   "codemirror_mode": {
    "name": "ipython",
    "version": 3
   },
   "file_extension": ".py",
   "mimetype": "text/x-python",
   "name": "python",
   "nbconvert_exporter": "python",
   "pygments_lexer": "ipython3",
   "version": "3.7.1"
  }
 },
 "nbformat": 4,
 "nbformat_minor": 4
}
