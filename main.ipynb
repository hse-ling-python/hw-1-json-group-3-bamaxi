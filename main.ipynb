{
 "cells": [
  {
   "cell_type": "markdown",
   "metadata": {},
   "source": [
    "# Домашнее задание 1 - twitter"
   ]
  },
  {
   "cell_type": "markdown",
   "metadata": {},
   "source": [
    "# Задание 1\n",
    "\n",
    "Прочтём файл с данными в список tweets - это список словарей. Узнаем, сколько\n",
    "всего окажется твитов, посмотрев длину списка. (Их **2556**)."
   ]
  },
  {
   "cell_type": "code",
   "execution_count": 1,
   "metadata": {
    "collapsed": false,
    "inputHidden": false,
    "jupyter": {
     "outputs_hidden": false
    },
    "outputHidden": false
   },
   "outputs": [],
   "source": [
    "%load_ext pycodestyle_magic\n",
    "%pycodestyle_on\n",
    "\n",
    "\n",
    "import json\n",
    "import re\n",
    "import string\n",
    "from pprint import pprint\n",
    "from collections import Counter\n",
    "\n",
    "\n",
    "file = 'data/hw_3_twitter.json'\n",
    "\n",
    "tweets = list()\n",
    "for line in open(file, 'r', encoding='utf-8'):\n",
    "    tweets.append(json.loads(line))\n",
    "\n",
    "total_num_of_tweets = len(tweets)"
   ]
  },
  {
   "cell_type": "markdown",
   "metadata": {},
   "source": [
    "**Ответ на задание 1:**"
   ]
  },
  {
   "cell_type": "code",
   "execution_count": 2,
   "metadata": {},
   "outputs": [
    {
     "name": "stdout",
     "output_type": "stream",
     "text": [
      "2556\n"
     ]
    }
   ],
   "source": [
    "print(total_num_of_tweets)"
   ]
  },
  {
   "cell_type": "markdown",
   "metadata": {},
   "source": [
    "### Задание 2\n",
    "\n",
    "Информация об удалённых твитах устроена особым образом: при конвертации из json в объект питона это будет словарь с одним ключом - *delete* - это мы и можем проверить, используя метод *.keys()* словарей. В переменную *num_of_deleted_tweets* мы и записали количество удалённых твитов (**362**), которое потом разделим на общее число твитов, чтобы получить ответ."
   ]
  },
  {
   "cell_type": "code",
   "execution_count": 3,
   "metadata": {},
   "outputs": [],
   "source": [
    "num_of_deleted_tweets = 0\n",
    "for tweet in tweets:\n",
    "    if list(tweet.keys())[0] == 'delete':\n",
    "        num_of_deleted_tweets += 1"
   ]
  },
  {
   "cell_type": "markdown",
   "metadata": {},
   "source": [
    "**Ответ на задание 2:** (округлен самим питоном)"
   ]
  },
  {
   "cell_type": "code",
   "execution_count": 4,
   "metadata": {},
   "outputs": [
    {
     "name": "stdout",
     "output_type": "stream",
     "text": [
      "Процент удалённых твитов: 14.162754%\n"
     ]
    }
   ],
   "source": [
    "print('Процент удалённых твитов: {:%}'.format(\n",
    "    num_of_deleted_tweets / total_num_of_tweets))"
   ]
  },
  {
   "cell_type": "markdown",
   "metadata": {},
   "source": [
    "# Задание 3\n",
    "\n"
   ]
  },
  {
   "cell_type": "markdown",
   "metadata": {},
   "source": [
    "Для каждого твита, если есть ключ *lang*, то в каунтер по ключу, равному значению `tweeet['lang']` прибавляем единицу."
   ]
  },
  {
   "cell_type": "code",
   "execution_count": 5,
   "metadata": {},
   "outputs": [],
   "source": [
    "popular_langs_of_tweets = Counter()\n",
    "for tweet in tweets:\n",
    "    if 'lang' in tweet.keys():\n",
    "        popular_langs_of_tweets[tweet['lang']] += 1"
   ]
  },
  {
   "cell_type": "markdown",
   "metadata": {},
   "source": [
    "**Ответ на задание 3:** языки по убыванию по популярности с количеством твитов на них (20 штук, как и советовали в tg)"
   ]
  },
  {
   "cell_type": "code",
   "execution_count": 6,
   "metadata": {},
   "outputs": [
    {
     "name": "stdout",
     "output_type": "stream",
     "text": [
      "en\t719\n",
      "ja\t438\n",
      "es\t173\n",
      "ko\t149\n",
      "th\t123\n",
      "ar\t119\n",
      "in\t71\n",
      "pt\t69\n",
      "fr\t35\n",
      "tr\t30\n",
      "tl\t29\n",
      "hi\t23\n",
      "ru\t15\n",
      "fa\t8\n",
      "zh\t8\n",
      "ca\t7\n",
      "ur\t6\n",
      "nl\t6\n",
      "de\t6\n"
     ]
    }
   ],
   "source": [
    "for lang, num in popular_langs_of_tweets.most_common(20):\n",
    "    if lang != 'und':\n",
    "        print('{}\\t{}'.format(lang, num))"
   ]
  },
  {
   "cell_type": "markdown",
   "metadata": {},
   "source": [
    "Твиты с неизвестным языком не учитываются. Их *117*"
   ]
  },
  {
   "cell_type": "code",
   "execution_count": 7,
   "metadata": {},
   "outputs": [
    {
     "name": "stdout",
     "output_type": "stream",
     "text": [
      "117\n"
     ]
    }
   ],
   "source": [
    "print(popular_langs_of_tweets['und'])"
   ]
  },
  {
   "cell_type": "markdown",
   "metadata": {},
   "source": [
    "# Задание 4\n",
    "\n"
   ]
  },
  {
   "cell_type": "markdown",
   "metadata": {},
   "source": [
    "Чтобы найти число пользователей, которые сделали 2+ твита, создадим список пользователей *users* и проходя список твитов будем в *users* вносить маленький список из двух элементов: уникального id и количество твитов человека с этим id. Когда мы встречаем user'а в первый раз, внесён будет список `[id, 1]`. Поскольку это список списков и все вложеные списки имеют одинаковую длину, то проверять существование id удобно применяя функцию `zip()` к `*users` - отдельным маленьким спискам. Такое применение даёт два списка одинаковой длины, в первом из которых - все id на текущий момент, во втором - количества твитов. id и количества твитов находятся в таких списках на одинаковых местах, что позволяет, (если такой id уже есть), увеличить на 1 количество твитов во вложенном списке исходного списка *users*, используя индекс id в разбитом списке.\n",
    "\n",
    "В самом начале, условием `if list(tweet.keys())[0] != 'delete'` конечно проверяется, чтобы это не был удалённый твит."
   ]
  },
  {
   "cell_type": "code",
   "execution_count": 8,
   "metadata": {},
   "outputs": [],
   "source": [
    "users = list()\n",
    "\n",
    "for tweet in tweets:\n",
    "    if list(tweet.keys())[0] != 'delete':\n",
    "        id = tweet['user']['id']\n",
    "        if users:\n",
    "            ids = list(zip(*users))[0]\n",
    "            if id in ids:\n",
    "                users[ids.index(id)][1] += 1\n",
    "            else:\n",
    "                users.append([id, 1])\n",
    "        else:\n",
    "            users.append([id, 1])"
   ]
  },
  {
   "cell_type": "markdown",
   "metadata": {},
   "source": [
    "Ответ вычисляется просто: из общего количества пользователей нужно вычесть количество пользователей, у которых ровно один твит (0 твитов и меньше быть не может, мы вносили так, чтобы их было 1+), что также делается с помощью `zip(*users)`, но на этот раз нас интересует второй разделённый список - список количеств."
   ]
  },
  {
   "cell_type": "markdown",
   "metadata": {},
   "source": [
    "Итак, **ответ на задание 4:** да, такие пользователи есть, их 25"
   ]
  },
  {
   "cell_type": "code",
   "execution_count": 9,
   "metadata": {},
   "outputs": [
    {
     "name": "stdout",
     "output_type": "stream",
     "text": [
      "25\n"
     ]
    }
   ],
   "source": [
    "more_than_one_tweet = len(users) - list(zip(*users))[1].count(1)\n",
    "print(more_than_one_tweet)"
   ]
  },
  {
   "cell_type": "markdown",
   "metadata": {},
   "source": [
    "# Задание 5"
   ]
  },
  {
   "cell_type": "markdown",
   "metadata": {},
   "source": [
    "Для каждого твита (если он не удалённый), если список *hashtags* не пуст, то обойдем все словари в нём (каждый словарь описывает один хэштег), и достанем из каждого словаря текст хэштега. Для начала внесём эти хэштеги в список. Позже к нему мы применим Counter. "
   ]
  },
  {
   "cell_type": "code",
   "execution_count": 10,
   "metadata": {},
   "outputs": [],
   "source": [
    "hashtags_list = list()\n",
    "\n",
    "for tweet in tweets:\n",
    "    if list(tweet.keys())[0] != 'delete':\n",
    "        hashtags = tweet['entities']['hashtags']\n",
    "        if hashtags:\n",
    "            for hashtag in hashtags:\n",
    "                hashtags_list.append(hashtag['text'])"
   ]
  },
  {
   "cell_type": "markdown",
   "metadata": {},
   "source": [
    "**Ответ на задание 5:** *не выравнивается, извините(*"
   ]
  },
  {
   "cell_type": "code",
   "execution_count": 11,
   "metadata": {},
   "outputs": [
    {
     "name": "stdout",
     "output_type": "stream",
     "text": [
      "Hashtag                       Count\n",
      "#BTS                           17\n",
      "#방탄소년단                         13\n",
      "#AMAs                          11\n",
      "#人気投票ガチャ                       8\n",
      "#태형                            7\n",
      "#뷔                             6\n",
      "#BTSinChicago                  5\n",
      "#BTSLoveYourselfTour           5\n",
      "#오늘의방탄                         5\n",
      "#PledgeForSwachhBharat         5\n",
      "#MPN                           5\n",
      "#PCAs                          4\n",
      "#V                             4\n",
      "#시카고1회차공연                      4\n",
      "#เป๊กผลิตโชค                   4\n",
      "#JIMIN                         4\n",
      "#running                       3\n",
      "#NCT                           3\n",
      "#지민                            3\n",
      "#WajahmuPlastik                3\n"
     ]
    }
   ],
   "source": [
    "print('{:<30s}{:>5s}'.format('Hashtag', 'Count'))\n",
    "for hashtag, count in Counter(hashtags_list).most_common(20):\n",
    "    print('#{:<30s}{:5>d}'.format(hashtag, count))"
   ]
  },
  {
   "cell_type": "markdown",
   "metadata": {},
   "source": [
    "# Задание 6"
   ]
  },
  {
   "cell_type": "markdown",
   "metadata": {},
   "source": [
    "**Важно для номеров 5 и 6** В телеграме я описывал проблему, когда твиты не имеющие ни retweet_status, ни quoted_status_id тем не менее похожи на цитаты, тем что имеют внутри структуру **`extended_tweet{}`**, которая характерна лишь для цитат согласно [twitter API docs (ближе к концу страницы, если якорь в ссылке не работает)](https://developer.twitter.com/en/docs/tweets/data-dictionary/overview/entities-object#retweets-quotes). Самый первый [твит](https://twitter.com/i/web/status/1047350533437239297) удовлетворяющий условиям внутри цикла ровно таков. Для таких твитов я посмотрел внутрь *extended_tweet* и взял текст оттуда. Однако там кроме полного текста, есть ещё и хэштеги, которые не уместились во внешнее `entities{}`, что могло быть важно для предыдущего задания. К сожалению, я не очень успеваю поправить номер 5, и оставил его как было, не учитывая описанные факты.\n",
    "\n",
    "Собственно, описание кода: для каждого твита проверим, что он не удалён `(list(tweet.keys())[0] != 'delete'` не ретвит `not 'retweeted_status' in tweet` и не цитата `not 'quoted_status_id' in tweet`. Если всё в порядке, проверим, чтобы язык был английским. После возьмём текст твита (двумя разными способами, в зависимости от того, есть ключ *extended_tweet* в словаре *tweet* или нет), и добавим в *words* (Counter) результат применения чистящей функции к тексту.\n",
    "\n",
    "Функция очистки довольно простая, для ссылок несложная регулярка, для эмоджи удаление определённых байтовых последовательностей *(или это кодпоинты? не очень разобрался)*, пришлось найти в интернете. Пунктуация удаляется проверкой каждого символа и созданием новой строки из непунктуационных символов. Упоминания (mentions) не удалял"
   ]
  },
  {
   "cell_type": "code",
   "execution_count": 12,
   "metadata": {},
   "outputs": [
    {
     "name": "stderr",
     "output_type": "stream",
     "text": [
      "4:36: W605 invalid escape sequence '\\/'\n",
      "4:38: W605 invalid escape sequence '\\/'\n",
      "4:40: W605 invalid escape sequence '\\S'\n",
      "4:44: W605 invalid escape sequence '\\S'\n",
      "4:50: W605 invalid escape sequence '\\/'\n",
      "4:53: W605 invalid escape sequence '\\/'\n",
      "4:55: W605 invalid escape sequence '\\S'\n",
      "24:80: E501 line too long (81 > 79 characters)\n"
     ]
    }
   ],
   "source": [
    "def clear_string(line):\n",
    "\n",
    "    # удалить ссылки\n",
    "    url_reg = re.compile('http[s]?:\\/\\/\\S+.\\S+(?:\\/|\\/\\S+)*')\n",
    "    line = url_reg.sub('', line)\n",
    "\n",
    "    # удалить упоминания\n",
    "    line = re.sub(r'@\\S+', '', line)\n",
    "\n",
    "    # удалить эмодзи\n",
    "    RE_EMOJI = re.compile('[\\U00010000-\\U0010ffff]', flags=re.UNICODE)\n",
    "    line = RE_EMOJI.sub(r'', line)\n",
    "\n",
    "    # удалить пунктуацию, разделить на слова и сделать строчными буквы\n",
    "    res_line = ''\n",
    "    for c in line:\n",
    "        if c not in string.punctuation and ord(c) < 128:\n",
    "            res_line += c\n",
    "    return [word.lower() for word in res_line.split()]\n",
    "\n",
    "\n",
    "words = Counter()\n",
    "for tweet in tweets:\n",
    "    if (list(tweet.keys())[0] != 'delete' and 'retweeted_status' not in tweet and\n",
    "            'quoted_status_id' not in tweet):\n",
    "        lang = tweet.get('lang')\n",
    "        if lang == 'en':\n",
    "            if 'extended_tweet' in tweet:\n",
    "                words_to_add = clear_string(\n",
    "                    tweet['extended_tweet']['full_text'])\n",
    "                words.update(words_to_add)\n",
    "\n",
    "            else:\n",
    "                words_to_add = clear_string(tweet['text'])\n",
    "                words.update(words_to_add)"
   ]
  },
  {
   "cell_type": "markdown",
   "metadata": {},
   "source": [
    "**Ответ на задание 6:**"
   ]
  },
  {
   "cell_type": "code",
   "execution_count": 13,
   "metadata": {},
   "outputs": [
    {
     "name": "stdout",
     "output_type": "stream",
     "text": [
      "word                     count\n",
      "the                      133\n",
      "to                       96\n",
      "a                        74\n",
      "and                      68\n",
      "i                        68\n",
      "you                      54\n",
      "of                       51\n",
      "is                       50\n",
      "it                       49\n",
      "for                      43\n",
      "in                       41\n",
      "that                     35\n",
      "me                       31\n",
      "on                       30\n",
      "my                       26\n",
      "be                       25\n",
      "its                      24\n",
      "this                     22\n",
      "are                      22\n",
      "your                     21\n"
     ]
    }
   ],
   "source": [
    "print('{:<25s}{:>5s}'.format('word', 'count'))\n",
    "for word, count in words.most_common(20):\n",
    "    print('{:<25s}{:5>d}'.format(word, count))"
   ]
  },
  {
   "cell_type": "markdown",
   "metadata": {},
   "source": [
    "# Задание 7"
   ]
  },
  {
   "cell_type": "markdown",
   "metadata": {},
   "source": [
    "Здесь я просто складываю пользователей из неудалённых твитов в *users_followers* - Counter, если они встречаются в первый раз. Ключами словаря сделал кортежи из id пользователя и имени, показалось удобнее."
   ]
  },
  {
   "cell_type": "code",
   "execution_count": 14,
   "metadata": {},
   "outputs": [],
   "source": [
    "users_followers = Counter()\n",
    "\n",
    "for tweet in tweets:\n",
    "    if list(tweet.keys())[0] != 'delete':\n",
    "        id = tweet['user']['id']\n",
    "        name = tweet['user']['name']\n",
    "        followers_count = tweet['user']['followers_count']\n",
    "\n",
    "        if (id, name) not in users_followers:\n",
    "            users_followers[(id, name)] = followers_count"
   ]
  },
  {
   "cell_type": "markdown",
   "metadata": {},
   "source": [
    "**Ответ на задание 7:** *(снова криво из-за не ascii символов)*"
   ]
  },
  {
   "cell_type": "code",
   "execution_count": 15,
   "metadata": {},
   "outputs": [
    {
     "name": "stdout",
     "output_type": "stream",
     "text": [
      "author                              number of followers\n",
      "Filosofía♕                                      2521403\n",
      "FITNESS Magazine                                1491309\n",
      "malaysiakini.com                                1206759\n",
      "NYT Science                                     1137374\n",
      "Gramática                                        625463\n",
      "TGRT Haber                                       392472\n",
      "The Sun Football ⚽                               383698\n",
      "Melbourne, Australia                             374222\n",
      "Roznama Express                                  318189\n",
      "💞 ცųཞɠɛཞცơơɠıɛ 💞                                 311319\n"
     ]
    }
   ],
   "source": [
    "print('{:<25s}{:>30s}'.format('author', 'number of followers'))\n",
    "for user, count in users_followers.most_common(10):\n",
    "    print('{:<25s}{:>30d}'.format(user[1], count))"
   ]
  },
  {
   "cell_type": "markdown",
   "metadata": {},
   "source": [
    "# Задание 8"
   ]
  },
  {
   "cell_type": "markdown",
   "metadata": {},
   "source": [
    "Заведя каунтер, мы можем просто для каждого не удалённого твита доставать source, применять регулярку, доставая нужный кусочек строки, и вносить это в каунтер. Основную сложность в задании представляет регулярка. Я попытался разбить её по строчкам, и описать, как когда-то делал раньше, но в такой записи она не работала почему-то :( И с плюсом между `r'кусочками'` пробовал, и без. Оставил закомментированную, все равно может помочь. Арабский шрифт выводится неверно, не смог поправить."
   ]
  },
  {
   "cell_type": "code",
   "execution_count": 16,
   "metadata": {},
   "outputs": [
    {
     "name": "stderr",
     "output_type": "stream",
     "text": [
      "3:80: E501 line too long (87 > 79 characters)\n",
      "8:80: E501 line too long (89 > 79 characters)\n",
      "9:80: E501 line too long (83 > 79 characters)\n",
      "10:80: E501 line too long (82 > 79 characters)\n",
      "13:80: E501 line too long (102 > 79 characters)\n"
     ]
    }
   ],
   "source": [
    "def get_source(line):\n",
    "    #     re_source = re.compile(\n",
    "    #         r'<a href=\\\"[hH]ttp[s]?:\\/\\/' # http(s):// (в тексте встречается Http...)\n",
    "    #         r'\\S+.\\S+'                    # site.domain\n",
    "    #         r'(?:\\/|\\/\\S+)*\\\"'            # необязательное / или /folder\n",
    "    #                                       # повторённое несколько раз\n",
    "    #         r'rel=\\\"\\S+\\\">'\n",
    "    #         r'((?:[^ \\n]+|[^ \\n]+ | )+)'  # одно слово либо слово + пробел, либо пробел\n",
    "    #                                       # потом заканчиваем или повторяем снова\n",
    "    #                                       # так получается любое количество слов\n",
    "    #         r'<\\/a>')\n",
    "    re_source = re.compile(\n",
    "        r'<a href=\\\"[hH]ttp[s]?:\\/\\/\\S+.\\S+(?:\\/|\\/\\S+)*\\\" rel=\\\"\\S+\\\">((?:[^ \\n]|[^ \\n]+ | )+)<\\/a>')\n",
    "    clear_line = re_source.match(line)\n",
    "    return clear_line.group(1)\n",
    "\n",
    "\n",
    "sources = Counter()\n",
    "for tweet in tweets:\n",
    "    if list(tweet.keys())[0] != 'delete':\n",
    "        sources[get_source(tweet['source'])] += 1"
   ]
  },
  {
   "cell_type": "markdown",
   "metadata": {},
   "source": [
    "**Ответ на задание 8:**"
   ]
  },
  {
   "cell_type": "code",
   "execution_count": 17,
   "metadata": {},
   "outputs": [
    {
     "name": "stdout",
     "output_type": "stream",
     "text": [
      "platform                                                         count\n",
      "Twitter for iPhone                                                 800\n",
      "Twitter for Android                                                695\n",
      "Twitter Web Client                                                 140\n",
      "twittbot.net                                                       122\n",
      "Twitter Lite                                                        51\n",
      "Twitter for iPad                                                    28\n",
      "TweetDeck                                                           23\n",
      "Facebook                                                            17\n",
      "IFTTT                                                               14\n",
      "تطبيق قرآني                                                         10\n"
     ]
    }
   ],
   "source": [
    "print('{:<40s}{:>30s}'.format('platform', 'count'))\n",
    "for platform, count in sources.most_common(10):\n",
    "    print('{:<40s}{:>30d}'.format(platform, count))"
   ]
  }
 ],
 "metadata": {
  "kernelspec": {
   "display_name": "Python 3",
   "language": "python",
   "name": "python3"
  },
  "language_info": {
   "codemirror_mode": {
    "name": "ipython",
    "version": 3
   },
   "file_extension": ".py",
   "mimetype": "text/x-python",
   "name": "python",
   "nbconvert_exporter": "python",
   "pygments_lexer": "ipython3",
   "version": "3.7.1"
  }
 },
 "nbformat": 4,
 "nbformat_minor": 4
}
